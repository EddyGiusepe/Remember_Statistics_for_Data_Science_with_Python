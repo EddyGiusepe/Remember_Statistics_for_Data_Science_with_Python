{
  "nbformat": 4,
  "nbformat_minor": 0,
  "metadata": {
    "colab": {
      "name": "Remember_statistics_Data_Science.ipynb",
      "provenance": [],
      "collapsed_sections": [],
      "machine_shape": "hm",
      "mount_file_id": "1Yuo2JOVhnjeog_FzM-oU9tV8wEsX7qnT",
      "authorship_tag": "ABX9TyNsOsCRrlnoP5TUj5d1Z3Bu",
      "include_colab_link": true
    },
    "kernelspec": {
      "name": "python3",
      "display_name": "Python 3"
    },
    "language_info": {
      "name": "python"
    },
    "accelerator": "TPU"
  },
  "cells": [
    {
      "cell_type": "markdown",
      "metadata": {
        "id": "view-in-github",
        "colab_type": "text"
      },
      "source": [
        "<a href=\"https://colab.research.google.com/github/EddyGiusepe/Remember_Statistics_for_Data_Science_with_Python/blob/main/Remember_statistics_Data_Science.ipynb\" target=\"_parent\"><img src=\"https://colab.research.google.com/assets/colab-badge.svg\" alt=\"Open In Colab\"/></a>"
      ]
    },
    {
      "cell_type": "markdown",
      "source": [
        "# <h2 align='center'>Statistics for Data Science with Python</h2> \n",
        "\n",
        "\n",
        "**Cientista de Dados Jr.:**  Dr.Eddy Giusepe Chirinos Isidro\n",
        "\n",
        "\n",
        "\n",
        "\n"
      ],
      "metadata": {
        "id": "KqVEfKTefNFA"
      }
    },
    {
      "cell_type": "markdown",
      "source": [
        "## Importamos as nossas bibliotecas"
      ],
      "metadata": {
        "id": "iQOJqg7xfZLj"
      }
    },
    {
      "cell_type": "code",
      "execution_count": 1,
      "metadata": {
        "id": "U0ybSoE-eB6M"
      },
      "outputs": [],
      "source": [
        "import numpy as np\n",
        "import pandas as pd\n",
        "\n",
        "import scipy.stats\n",
        "from scipy.stats import ttest_ind, levene, f_oneway, chi2_contingency, pearsonr\n",
        "\n",
        "import seaborn as sns\n",
        "import matplotlib.pyplot as plt\n"
      ]
    },
    {
      "cell_type": "markdown",
      "source": [
        "## Carregamos nossos Dados"
      ],
      "metadata": {
        "id": "ue9bPY9RgIbg"
      }
    },
    {
      "cell_type": "code",
      "source": [
        "df = pd.read_csv(\"/content/drive/MyDrive/4_teoria_IA_ML_DL_Eddy/Remember_Statistics_for_Data_Science/teachingratings.csv\")\n",
        "df.head(5)"
      ],
      "metadata": {
        "colab": {
          "base_uri": "https://localhost:8080/",
          "height": 202
        },
        "id": "Kiysh116flPI",
        "outputId": "c10041db-90da-4cc2-d404-f4728e87701d"
      },
      "execution_count": 2,
      "outputs": [
        {
          "output_type": "execute_result",
          "data": {
            "text/html": [
              "\n",
              "  <div id=\"df-172f00b9-4a88-4911-9312-01ee89ce4b7e\">\n",
              "    <div class=\"colab-df-container\">\n",
              "      <div>\n",
              "<style scoped>\n",
              "    .dataframe tbody tr th:only-of-type {\n",
              "        vertical-align: middle;\n",
              "    }\n",
              "\n",
              "    .dataframe tbody tr th {\n",
              "        vertical-align: top;\n",
              "    }\n",
              "\n",
              "    .dataframe thead th {\n",
              "        text-align: right;\n",
              "    }\n",
              "</style>\n",
              "<table border=\"1\" class=\"dataframe\">\n",
              "  <thead>\n",
              "    <tr style=\"text-align: right;\">\n",
              "      <th></th>\n",
              "      <th>minority</th>\n",
              "      <th>age</th>\n",
              "      <th>gender</th>\n",
              "      <th>credits</th>\n",
              "      <th>beauty</th>\n",
              "      <th>eval</th>\n",
              "      <th>division</th>\n",
              "      <th>native</th>\n",
              "      <th>tenure</th>\n",
              "      <th>students</th>\n",
              "      <th>allstudents</th>\n",
              "      <th>prof</th>\n",
              "      <th>PrimaryLast</th>\n",
              "      <th>vismin</th>\n",
              "      <th>female</th>\n",
              "      <th>single_credit</th>\n",
              "      <th>upper_division</th>\n",
              "      <th>English_speaker</th>\n",
              "      <th>tenured_prof</th>\n",
              "    </tr>\n",
              "  </thead>\n",
              "  <tbody>\n",
              "    <tr>\n",
              "      <th>0</th>\n",
              "      <td>yes</td>\n",
              "      <td>36</td>\n",
              "      <td>female</td>\n",
              "      <td>more</td>\n",
              "      <td>0.289916</td>\n",
              "      <td>4.3</td>\n",
              "      <td>upper</td>\n",
              "      <td>yes</td>\n",
              "      <td>yes</td>\n",
              "      <td>24</td>\n",
              "      <td>43</td>\n",
              "      <td>1</td>\n",
              "      <td>0</td>\n",
              "      <td>1</td>\n",
              "      <td>1</td>\n",
              "      <td>0</td>\n",
              "      <td>1</td>\n",
              "      <td>1</td>\n",
              "      <td>1</td>\n",
              "    </tr>\n",
              "    <tr>\n",
              "      <th>1</th>\n",
              "      <td>yes</td>\n",
              "      <td>36</td>\n",
              "      <td>female</td>\n",
              "      <td>more</td>\n",
              "      <td>0.289916</td>\n",
              "      <td>3.7</td>\n",
              "      <td>upper</td>\n",
              "      <td>yes</td>\n",
              "      <td>yes</td>\n",
              "      <td>86</td>\n",
              "      <td>125</td>\n",
              "      <td>1</td>\n",
              "      <td>0</td>\n",
              "      <td>1</td>\n",
              "      <td>1</td>\n",
              "      <td>0</td>\n",
              "      <td>1</td>\n",
              "      <td>1</td>\n",
              "      <td>1</td>\n",
              "    </tr>\n",
              "    <tr>\n",
              "      <th>2</th>\n",
              "      <td>yes</td>\n",
              "      <td>36</td>\n",
              "      <td>female</td>\n",
              "      <td>more</td>\n",
              "      <td>0.289916</td>\n",
              "      <td>3.6</td>\n",
              "      <td>upper</td>\n",
              "      <td>yes</td>\n",
              "      <td>yes</td>\n",
              "      <td>76</td>\n",
              "      <td>125</td>\n",
              "      <td>1</td>\n",
              "      <td>0</td>\n",
              "      <td>1</td>\n",
              "      <td>1</td>\n",
              "      <td>0</td>\n",
              "      <td>1</td>\n",
              "      <td>1</td>\n",
              "      <td>1</td>\n",
              "    </tr>\n",
              "    <tr>\n",
              "      <th>3</th>\n",
              "      <td>yes</td>\n",
              "      <td>36</td>\n",
              "      <td>female</td>\n",
              "      <td>more</td>\n",
              "      <td>0.289916</td>\n",
              "      <td>4.4</td>\n",
              "      <td>upper</td>\n",
              "      <td>yes</td>\n",
              "      <td>yes</td>\n",
              "      <td>77</td>\n",
              "      <td>123</td>\n",
              "      <td>1</td>\n",
              "      <td>1</td>\n",
              "      <td>1</td>\n",
              "      <td>1</td>\n",
              "      <td>0</td>\n",
              "      <td>1</td>\n",
              "      <td>1</td>\n",
              "      <td>1</td>\n",
              "    </tr>\n",
              "    <tr>\n",
              "      <th>4</th>\n",
              "      <td>no</td>\n",
              "      <td>59</td>\n",
              "      <td>male</td>\n",
              "      <td>more</td>\n",
              "      <td>-0.737732</td>\n",
              "      <td>4.5</td>\n",
              "      <td>upper</td>\n",
              "      <td>yes</td>\n",
              "      <td>yes</td>\n",
              "      <td>17</td>\n",
              "      <td>20</td>\n",
              "      <td>2</td>\n",
              "      <td>0</td>\n",
              "      <td>0</td>\n",
              "      <td>0</td>\n",
              "      <td>0</td>\n",
              "      <td>1</td>\n",
              "      <td>1</td>\n",
              "      <td>1</td>\n",
              "    </tr>\n",
              "  </tbody>\n",
              "</table>\n",
              "</div>\n",
              "      <button class=\"colab-df-convert\" onclick=\"convertToInteractive('df-172f00b9-4a88-4911-9312-01ee89ce4b7e')\"\n",
              "              title=\"Convert this dataframe to an interactive table.\"\n",
              "              style=\"display:none;\">\n",
              "        \n",
              "  <svg xmlns=\"http://www.w3.org/2000/svg\" height=\"24px\"viewBox=\"0 0 24 24\"\n",
              "       width=\"24px\">\n",
              "    <path d=\"M0 0h24v24H0V0z\" fill=\"none\"/>\n",
              "    <path d=\"M18.56 5.44l.94 2.06.94-2.06 2.06-.94-2.06-.94-.94-2.06-.94 2.06-2.06.94zm-11 1L8.5 8.5l.94-2.06 2.06-.94-2.06-.94L8.5 2.5l-.94 2.06-2.06.94zm10 10l.94 2.06.94-2.06 2.06-.94-2.06-.94-.94-2.06-.94 2.06-2.06.94z\"/><path d=\"M17.41 7.96l-1.37-1.37c-.4-.4-.92-.59-1.43-.59-.52 0-1.04.2-1.43.59L10.3 9.45l-7.72 7.72c-.78.78-.78 2.05 0 2.83L4 21.41c.39.39.9.59 1.41.59.51 0 1.02-.2 1.41-.59l7.78-7.78 2.81-2.81c.8-.78.8-2.07 0-2.86zM5.41 20L4 18.59l7.72-7.72 1.47 1.35L5.41 20z\"/>\n",
              "  </svg>\n",
              "      </button>\n",
              "      \n",
              "  <style>\n",
              "    .colab-df-container {\n",
              "      display:flex;\n",
              "      flex-wrap:wrap;\n",
              "      gap: 12px;\n",
              "    }\n",
              "\n",
              "    .colab-df-convert {\n",
              "      background-color: #E8F0FE;\n",
              "      border: none;\n",
              "      border-radius: 50%;\n",
              "      cursor: pointer;\n",
              "      display: none;\n",
              "      fill: #1967D2;\n",
              "      height: 32px;\n",
              "      padding: 0 0 0 0;\n",
              "      width: 32px;\n",
              "    }\n",
              "\n",
              "    .colab-df-convert:hover {\n",
              "      background-color: #E2EBFA;\n",
              "      box-shadow: 0px 1px 2px rgba(60, 64, 67, 0.3), 0px 1px 3px 1px rgba(60, 64, 67, 0.15);\n",
              "      fill: #174EA6;\n",
              "    }\n",
              "\n",
              "    [theme=dark] .colab-df-convert {\n",
              "      background-color: #3B4455;\n",
              "      fill: #D2E3FC;\n",
              "    }\n",
              "\n",
              "    [theme=dark] .colab-df-convert:hover {\n",
              "      background-color: #434B5C;\n",
              "      box-shadow: 0px 1px 3px 1px rgba(0, 0, 0, 0.15);\n",
              "      filter: drop-shadow(0px 1px 2px rgba(0, 0, 0, 0.3));\n",
              "      fill: #FFFFFF;\n",
              "    }\n",
              "  </style>\n",
              "\n",
              "      <script>\n",
              "        const buttonEl =\n",
              "          document.querySelector('#df-172f00b9-4a88-4911-9312-01ee89ce4b7e button.colab-df-convert');\n",
              "        buttonEl.style.display =\n",
              "          google.colab.kernel.accessAllowed ? 'block' : 'none';\n",
              "\n",
              "        async function convertToInteractive(key) {\n",
              "          const element = document.querySelector('#df-172f00b9-4a88-4911-9312-01ee89ce4b7e');\n",
              "          const dataTable =\n",
              "            await google.colab.kernel.invokeFunction('convertToInteractive',\n",
              "                                                     [key], {});\n",
              "          if (!dataTable) return;\n",
              "\n",
              "          const docLinkHtml = 'Like what you see? Visit the ' +\n",
              "            '<a target=\"_blank\" href=https://colab.research.google.com/notebooks/data_table.ipynb>data table notebook</a>'\n",
              "            + ' to learn more about interactive tables.';\n",
              "          element.innerHTML = '';\n",
              "          dataTable['output_type'] = 'display_data';\n",
              "          await google.colab.output.renderOutput(dataTable, element);\n",
              "          const docLink = document.createElement('div');\n",
              "          docLink.innerHTML = docLinkHtml;\n",
              "          element.appendChild(docLink);\n",
              "        }\n",
              "      </script>\n",
              "    </div>\n",
              "  </div>\n",
              "  "
            ],
            "text/plain": [
              "  minority  age  gender  ... upper_division  English_speaker  tenured_prof\n",
              "0      yes   36  female  ...              1                1             1\n",
              "1      yes   36  female  ...              1                1             1\n",
              "2      yes   36  female  ...              1                1             1\n",
              "3      yes   36  female  ...              1                1             1\n",
              "4       no   59    male  ...              1                1             1\n",
              "\n",
              "[5 rows x 19 columns]"
            ]
          },
          "metadata": {},
          "execution_count": 2
        }
      ]
    },
    {
      "cell_type": "code",
      "source": [
        "df.shape"
      ],
      "metadata": {
        "colab": {
          "base_uri": "https://localhost:8080/"
        },
        "id": "GvNvU4EM2lAm",
        "outputId": "d924e99c-3cc2-4564-f38b-cf2dc8e704ff"
      },
      "execution_count": 3,
      "outputs": [
        {
          "output_type": "execute_result",
          "data": {
            "text/plain": [
              "(463, 19)"
            ]
          },
          "metadata": {},
          "execution_count": 3
        }
      ]
    },
    {
      "cell_type": "code",
      "source": [
        "df.describe()"
      ],
      "metadata": {
        "colab": {
          "base_uri": "https://localhost:8080/",
          "height": 294
        },
        "id": "p2fp53somwqw",
        "outputId": "193e395b-1226-4a1d-9b7f-b57c508299c1"
      },
      "execution_count": 4,
      "outputs": [
        {
          "output_type": "execute_result",
          "data": {
            "text/html": [
              "\n",
              "  <div id=\"df-60d104a3-ce01-4a73-b17b-32d7d6c3a5cb\">\n",
              "    <div class=\"colab-df-container\">\n",
              "      <div>\n",
              "<style scoped>\n",
              "    .dataframe tbody tr th:only-of-type {\n",
              "        vertical-align: middle;\n",
              "    }\n",
              "\n",
              "    .dataframe tbody tr th {\n",
              "        vertical-align: top;\n",
              "    }\n",
              "\n",
              "    .dataframe thead th {\n",
              "        text-align: right;\n",
              "    }\n",
              "</style>\n",
              "<table border=\"1\" class=\"dataframe\">\n",
              "  <thead>\n",
              "    <tr style=\"text-align: right;\">\n",
              "      <th></th>\n",
              "      <th>age</th>\n",
              "      <th>beauty</th>\n",
              "      <th>eval</th>\n",
              "      <th>students</th>\n",
              "      <th>allstudents</th>\n",
              "      <th>prof</th>\n",
              "      <th>PrimaryLast</th>\n",
              "      <th>vismin</th>\n",
              "      <th>female</th>\n",
              "      <th>single_credit</th>\n",
              "      <th>upper_division</th>\n",
              "      <th>English_speaker</th>\n",
              "      <th>tenured_prof</th>\n",
              "    </tr>\n",
              "  </thead>\n",
              "  <tbody>\n",
              "    <tr>\n",
              "      <th>count</th>\n",
              "      <td>463.000000</td>\n",
              "      <td>4.630000e+02</td>\n",
              "      <td>463.000000</td>\n",
              "      <td>463.000000</td>\n",
              "      <td>463.000000</td>\n",
              "      <td>463.000000</td>\n",
              "      <td>463.000000</td>\n",
              "      <td>463.000000</td>\n",
              "      <td>463.000000</td>\n",
              "      <td>463.000000</td>\n",
              "      <td>463.000000</td>\n",
              "      <td>463.000000</td>\n",
              "      <td>463.000000</td>\n",
              "    </tr>\n",
              "    <tr>\n",
              "      <th>mean</th>\n",
              "      <td>48.365011</td>\n",
              "      <td>6.271140e-08</td>\n",
              "      <td>3.998272</td>\n",
              "      <td>36.624190</td>\n",
              "      <td>55.177106</td>\n",
              "      <td>45.434125</td>\n",
              "      <td>0.203024</td>\n",
              "      <td>0.138229</td>\n",
              "      <td>0.421166</td>\n",
              "      <td>0.058315</td>\n",
              "      <td>0.660907</td>\n",
              "      <td>0.939525</td>\n",
              "      <td>0.779698</td>\n",
              "    </tr>\n",
              "    <tr>\n",
              "      <th>std</th>\n",
              "      <td>9.802742</td>\n",
              "      <td>7.886477e-01</td>\n",
              "      <td>0.554866</td>\n",
              "      <td>45.018481</td>\n",
              "      <td>75.072800</td>\n",
              "      <td>27.508902</td>\n",
              "      <td>0.402685</td>\n",
              "      <td>0.345513</td>\n",
              "      <td>0.494280</td>\n",
              "      <td>0.234592</td>\n",
              "      <td>0.473913</td>\n",
              "      <td>0.238623</td>\n",
              "      <td>0.414899</td>\n",
              "    </tr>\n",
              "    <tr>\n",
              "      <th>min</th>\n",
              "      <td>29.000000</td>\n",
              "      <td>-1.450494e+00</td>\n",
              "      <td>2.100000</td>\n",
              "      <td>5.000000</td>\n",
              "      <td>8.000000</td>\n",
              "      <td>1.000000</td>\n",
              "      <td>0.000000</td>\n",
              "      <td>0.000000</td>\n",
              "      <td>0.000000</td>\n",
              "      <td>0.000000</td>\n",
              "      <td>0.000000</td>\n",
              "      <td>0.000000</td>\n",
              "      <td>0.000000</td>\n",
              "    </tr>\n",
              "    <tr>\n",
              "      <th>25%</th>\n",
              "      <td>42.000000</td>\n",
              "      <td>-6.562689e-01</td>\n",
              "      <td>3.600000</td>\n",
              "      <td>15.000000</td>\n",
              "      <td>19.000000</td>\n",
              "      <td>20.000000</td>\n",
              "      <td>0.000000</td>\n",
              "      <td>0.000000</td>\n",
              "      <td>0.000000</td>\n",
              "      <td>0.000000</td>\n",
              "      <td>0.000000</td>\n",
              "      <td>1.000000</td>\n",
              "      <td>1.000000</td>\n",
              "    </tr>\n",
              "    <tr>\n",
              "      <th>50%</th>\n",
              "      <td>48.000000</td>\n",
              "      <td>-6.801430e-02</td>\n",
              "      <td>4.000000</td>\n",
              "      <td>23.000000</td>\n",
              "      <td>29.000000</td>\n",
              "      <td>44.000000</td>\n",
              "      <td>0.000000</td>\n",
              "      <td>0.000000</td>\n",
              "      <td>0.000000</td>\n",
              "      <td>0.000000</td>\n",
              "      <td>1.000000</td>\n",
              "      <td>1.000000</td>\n",
              "      <td>1.000000</td>\n",
              "    </tr>\n",
              "    <tr>\n",
              "      <th>75%</th>\n",
              "      <td>57.000000</td>\n",
              "      <td>5.456024e-01</td>\n",
              "      <td>4.400000</td>\n",
              "      <td>40.000000</td>\n",
              "      <td>60.000000</td>\n",
              "      <td>70.500000</td>\n",
              "      <td>0.000000</td>\n",
              "      <td>0.000000</td>\n",
              "      <td>1.000000</td>\n",
              "      <td>0.000000</td>\n",
              "      <td>1.000000</td>\n",
              "      <td>1.000000</td>\n",
              "      <td>1.000000</td>\n",
              "    </tr>\n",
              "    <tr>\n",
              "      <th>max</th>\n",
              "      <td>73.000000</td>\n",
              "      <td>1.970023e+00</td>\n",
              "      <td>5.000000</td>\n",
              "      <td>380.000000</td>\n",
              "      <td>581.000000</td>\n",
              "      <td>94.000000</td>\n",
              "      <td>1.000000</td>\n",
              "      <td>1.000000</td>\n",
              "      <td>1.000000</td>\n",
              "      <td>1.000000</td>\n",
              "      <td>1.000000</td>\n",
              "      <td>1.000000</td>\n",
              "      <td>1.000000</td>\n",
              "    </tr>\n",
              "  </tbody>\n",
              "</table>\n",
              "</div>\n",
              "      <button class=\"colab-df-convert\" onclick=\"convertToInteractive('df-60d104a3-ce01-4a73-b17b-32d7d6c3a5cb')\"\n",
              "              title=\"Convert this dataframe to an interactive table.\"\n",
              "              style=\"display:none;\">\n",
              "        \n",
              "  <svg xmlns=\"http://www.w3.org/2000/svg\" height=\"24px\"viewBox=\"0 0 24 24\"\n",
              "       width=\"24px\">\n",
              "    <path d=\"M0 0h24v24H0V0z\" fill=\"none\"/>\n",
              "    <path d=\"M18.56 5.44l.94 2.06.94-2.06 2.06-.94-2.06-.94-.94-2.06-.94 2.06-2.06.94zm-11 1L8.5 8.5l.94-2.06 2.06-.94-2.06-.94L8.5 2.5l-.94 2.06-2.06.94zm10 10l.94 2.06.94-2.06 2.06-.94-2.06-.94-.94-2.06-.94 2.06-2.06.94z\"/><path d=\"M17.41 7.96l-1.37-1.37c-.4-.4-.92-.59-1.43-.59-.52 0-1.04.2-1.43.59L10.3 9.45l-7.72 7.72c-.78.78-.78 2.05 0 2.83L4 21.41c.39.39.9.59 1.41.59.51 0 1.02-.2 1.41-.59l7.78-7.78 2.81-2.81c.8-.78.8-2.07 0-2.86zM5.41 20L4 18.59l7.72-7.72 1.47 1.35L5.41 20z\"/>\n",
              "  </svg>\n",
              "      </button>\n",
              "      \n",
              "  <style>\n",
              "    .colab-df-container {\n",
              "      display:flex;\n",
              "      flex-wrap:wrap;\n",
              "      gap: 12px;\n",
              "    }\n",
              "\n",
              "    .colab-df-convert {\n",
              "      background-color: #E8F0FE;\n",
              "      border: none;\n",
              "      border-radius: 50%;\n",
              "      cursor: pointer;\n",
              "      display: none;\n",
              "      fill: #1967D2;\n",
              "      height: 32px;\n",
              "      padding: 0 0 0 0;\n",
              "      width: 32px;\n",
              "    }\n",
              "\n",
              "    .colab-df-convert:hover {\n",
              "      background-color: #E2EBFA;\n",
              "      box-shadow: 0px 1px 2px rgba(60, 64, 67, 0.3), 0px 1px 3px 1px rgba(60, 64, 67, 0.15);\n",
              "      fill: #174EA6;\n",
              "    }\n",
              "\n",
              "    [theme=dark] .colab-df-convert {\n",
              "      background-color: #3B4455;\n",
              "      fill: #D2E3FC;\n",
              "    }\n",
              "\n",
              "    [theme=dark] .colab-df-convert:hover {\n",
              "      background-color: #434B5C;\n",
              "      box-shadow: 0px 1px 3px 1px rgba(0, 0, 0, 0.15);\n",
              "      filter: drop-shadow(0px 1px 2px rgba(0, 0, 0, 0.3));\n",
              "      fill: #FFFFFF;\n",
              "    }\n",
              "  </style>\n",
              "\n",
              "      <script>\n",
              "        const buttonEl =\n",
              "          document.querySelector('#df-60d104a3-ce01-4a73-b17b-32d7d6c3a5cb button.colab-df-convert');\n",
              "        buttonEl.style.display =\n",
              "          google.colab.kernel.accessAllowed ? 'block' : 'none';\n",
              "\n",
              "        async function convertToInteractive(key) {\n",
              "          const element = document.querySelector('#df-60d104a3-ce01-4a73-b17b-32d7d6c3a5cb');\n",
              "          const dataTable =\n",
              "            await google.colab.kernel.invokeFunction('convertToInteractive',\n",
              "                                                     [key], {});\n",
              "          if (!dataTable) return;\n",
              "\n",
              "          const docLinkHtml = 'Like what you see? Visit the ' +\n",
              "            '<a target=\"_blank\" href=https://colab.research.google.com/notebooks/data_table.ipynb>data table notebook</a>'\n",
              "            + ' to learn more about interactive tables.';\n",
              "          element.innerHTML = '';\n",
              "          dataTable['output_type'] = 'display_data';\n",
              "          await google.colab.output.renderOutput(dataTable, element);\n",
              "          const docLink = document.createElement('div');\n",
              "          docLink.innerHTML = docLinkHtml;\n",
              "          element.appendChild(docLink);\n",
              "        }\n",
              "      </script>\n",
              "    </div>\n",
              "  </div>\n",
              "  "
            ],
            "text/plain": [
              "              age        beauty  ...  English_speaker  tenured_prof\n",
              "count  463.000000  4.630000e+02  ...       463.000000    463.000000\n",
              "mean    48.365011  6.271140e-08  ...         0.939525      0.779698\n",
              "std      9.802742  7.886477e-01  ...         0.238623      0.414899\n",
              "min     29.000000 -1.450494e+00  ...         0.000000      0.000000\n",
              "25%     42.000000 -6.562689e-01  ...         1.000000      1.000000\n",
              "50%     48.000000 -6.801430e-02  ...         1.000000      1.000000\n",
              "75%     57.000000  5.456024e-01  ...         1.000000      1.000000\n",
              "max     73.000000  1.970023e+00  ...         1.000000      1.000000\n",
              "\n",
              "[8 rows x 13 columns]"
            ]
          },
          "metadata": {},
          "execution_count": 4
        }
      ]
    },
    {
      "cell_type": "markdown",
      "source": [
        "## <font color=\"orange\">T-Test</font>\n",
        "\n",
        "**Hipótese nula (Null Hypothesis)**: a pontuação da avaliação é independente dos instrutores do sexo feminino e masculino\n",
        "\n",
        "**Hipótese alternativa (Alternate Hypothesis)**: a pontuação da avaliação depende dos instrutores do sexo feminino e masculino"
      ],
      "metadata": {
        "id": "bTmml85F5aLy"
      }
    },
    {
      "cell_type": "code",
      "source": [
        "ttest_ind(df[df[\"gender\"] == \"male\"][\"eval\"], df[df[\"gender\"] == \"female\"][\"eval\"])"
      ],
      "metadata": {
        "colab": {
          "base_uri": "https://localhost:8080/"
        },
        "id": "eKBPCZIX2rbf",
        "outputId": "3ca70c99-9c6e-45d8-9571-a83dcc71c36e"
      },
      "execution_count": 5,
      "outputs": [
        {
          "output_type": "execute_result",
          "data": {
            "text/plain": [
              "Ttest_indResult(statistic=3.249937943510772, pvalue=0.0012387609449522217)"
            ]
          },
          "metadata": {},
          "execution_count": 5
        }
      ]
    },
    {
      "cell_type": "markdown",
      "source": [
        "**Probabilidade de obter uma avaliação de ensino alta ou baixa**"
      ],
      "metadata": {
        "id": "V65fdkQR6TCb"
      }
    },
    {
      "cell_type": "code",
      "source": [
        "eval_mean = round(df[\"eval\"].mean(), 3)\n",
        "eval_std = round(df[\"eval\"].std(), 3)\n",
        "\n",
        "print(eval_mean, eval_std)"
      ],
      "metadata": {
        "colab": {
          "base_uri": "https://localhost:8080/"
        },
        "id": "SGN2zVBN6hlU",
        "outputId": "7af83abc-ef50-4c84-8f7d-855fab5c5387"
      },
      "execution_count": 6,
      "outputs": [
        {
          "output_type": "stream",
          "name": "stdout",
          "text": [
            "3.998 0.555\n"
          ]
        }
      ]
    },
    {
      "cell_type": "code",
      "source": [
        "prob = scipy.stats.norm.cdf((4.5 - eval_mean) / eval_std)\n",
        "print(1- prob)"
      ],
      "metadata": {
        "colab": {
          "base_uri": "https://localhost:8080/"
        },
        "id": "Jw5Fd8so6j6F",
        "outputId": "d94e3484-8f29-4485-a772-a0f0e1ddb0ac"
      },
      "execution_count": 7,
      "outputs": [
        {
          "output_type": "stream",
          "name": "stdout",
          "text": [
            "0.1828639734596742\n"
          ]
        }
      ]
    },
    {
      "cell_type": "markdown",
      "source": [
        "## <font color=\"orange\">Levene-Test</font>\n",
        "\n",
        "**Hipótese nula (Null Hypothesis)**: Variâncias populacionais são iguais\n",
        "\n",
        "**Hipótese alternativa (Alternate Hypothesis)**: Variâncias populacionais não são iguais"
      ],
      "metadata": {
        "id": "lTOVlbHU6iyk"
      }
    },
    {
      "cell_type": "code",
      "source": [
        "levene(df[df[\"gender\"] == \"male\"][\"eval\"], df[df[\"gender\"] == \"female\"][\"eval\"], center = \"mean\")"
      ],
      "metadata": {
        "colab": {
          "base_uri": "https://localhost:8080/"
        },
        "id": "fCauARz87oVS",
        "outputId": "3a8f9229-f6c1-41a1-a01a-c4d51dacb51f"
      },
      "execution_count": 8,
      "outputs": [
        {
          "output_type": "execute_result",
          "data": {
            "text/plain": [
              "LeveneResult(statistic=0.1903292243529225, pvalue=0.6628469836244741)"
            ]
          },
          "metadata": {},
          "execution_count": 8
        }
      ]
    },
    {
      "cell_type": "markdown",
      "source": [
        "## <font color=\"orange\">ANOVA</font>\n",
        "\n",
        "A Análise de Variância (**ANOVA**) é uma fórmula estatística usada para comparar as variâncias entre as medianas (ou médias) de grupos diferentes. Diversos cenários usam ANOVA para determinar se há alguma diferença entre as medianas dos diferentes grupos.\n",
        "\n",
        "\n",
        "**Hipótese nula (Null Hypothesis)**: As amostras têm os mesmos valores médios (mean)\n",
        "\n",
        "**Hipótese alternativa (Alternate Hypothesis)**: As amostras têm diferentes valores médios (mean)"
      ],
      "metadata": {
        "id": "od8vQARu7ulH"
      }
    },
    {
      "cell_type": "code",
      "source": [
        "def group(x):\n",
        "    if x <= 40:\n",
        "        return \"younger\"\n",
        "    elif x > 40 and x < 57:\n",
        "        return \"middle\"\n",
        "    else:\n",
        "        return \"older\"\n",
        "\n",
        "df[\"age_group\"] = df[\"age\"].apply(group)"
      ],
      "metadata": {
        "id": "zQkIECqQ7t_P"
      },
      "execution_count": 9,
      "outputs": []
    },
    {
      "cell_type": "markdown",
      "source": [
        "**Estatísticas de beleza por faixa etária (por Idade)**"
      ],
      "metadata": {
        "id": "RKY1QRPc-Otk"
      }
    },
    {
      "cell_type": "code",
      "source": [
        "age_stats = df.groupby(\"age_group\")[\"beauty\"].agg([\"count\", \"mean\", \"std\"])\n",
        "age_stats"
      ],
      "metadata": {
        "colab": {
          "base_uri": "https://localhost:8080/",
          "height": 171
        },
        "id": "Lum2MOni-heE",
        "outputId": "db299a2c-f2b6-42b5-c53d-a9f52b36b9f8"
      },
      "execution_count": 10,
      "outputs": [
        {
          "output_type": "execute_result",
          "data": {
            "text/html": [
              "\n",
              "  <div id=\"df-fdb922f6-b5d8-472a-b085-4c8b26c19734\">\n",
              "    <div class=\"colab-df-container\">\n",
              "      <div>\n",
              "<style scoped>\n",
              "    .dataframe tbody tr th:only-of-type {\n",
              "        vertical-align: middle;\n",
              "    }\n",
              "\n",
              "    .dataframe tbody tr th {\n",
              "        vertical-align: top;\n",
              "    }\n",
              "\n",
              "    .dataframe thead th {\n",
              "        text-align: right;\n",
              "    }\n",
              "</style>\n",
              "<table border=\"1\" class=\"dataframe\">\n",
              "  <thead>\n",
              "    <tr style=\"text-align: right;\">\n",
              "      <th></th>\n",
              "      <th>count</th>\n",
              "      <th>mean</th>\n",
              "      <th>std</th>\n",
              "    </tr>\n",
              "    <tr>\n",
              "      <th>age_group</th>\n",
              "      <th></th>\n",
              "      <th></th>\n",
              "      <th></th>\n",
              "    </tr>\n",
              "  </thead>\n",
              "  <tbody>\n",
              "    <tr>\n",
              "      <th>middle</th>\n",
              "      <td>228</td>\n",
              "      <td>-0.035111</td>\n",
              "      <td>0.686637</td>\n",
              "    </tr>\n",
              "    <tr>\n",
              "      <th>older</th>\n",
              "      <td>122</td>\n",
              "      <td>-0.245777</td>\n",
              "      <td>0.740720</td>\n",
              "    </tr>\n",
              "    <tr>\n",
              "      <th>younger</th>\n",
              "      <td>113</td>\n",
              "      <td>0.336196</td>\n",
              "      <td>0.913748</td>\n",
              "    </tr>\n",
              "  </tbody>\n",
              "</table>\n",
              "</div>\n",
              "      <button class=\"colab-df-convert\" onclick=\"convertToInteractive('df-fdb922f6-b5d8-472a-b085-4c8b26c19734')\"\n",
              "              title=\"Convert this dataframe to an interactive table.\"\n",
              "              style=\"display:none;\">\n",
              "        \n",
              "  <svg xmlns=\"http://www.w3.org/2000/svg\" height=\"24px\"viewBox=\"0 0 24 24\"\n",
              "       width=\"24px\">\n",
              "    <path d=\"M0 0h24v24H0V0z\" fill=\"none\"/>\n",
              "    <path d=\"M18.56 5.44l.94 2.06.94-2.06 2.06-.94-2.06-.94-.94-2.06-.94 2.06-2.06.94zm-11 1L8.5 8.5l.94-2.06 2.06-.94-2.06-.94L8.5 2.5l-.94 2.06-2.06.94zm10 10l.94 2.06.94-2.06 2.06-.94-2.06-.94-.94-2.06-.94 2.06-2.06.94z\"/><path d=\"M17.41 7.96l-1.37-1.37c-.4-.4-.92-.59-1.43-.59-.52 0-1.04.2-1.43.59L10.3 9.45l-7.72 7.72c-.78.78-.78 2.05 0 2.83L4 21.41c.39.39.9.59 1.41.59.51 0 1.02-.2 1.41-.59l7.78-7.78 2.81-2.81c.8-.78.8-2.07 0-2.86zM5.41 20L4 18.59l7.72-7.72 1.47 1.35L5.41 20z\"/>\n",
              "  </svg>\n",
              "      </button>\n",
              "      \n",
              "  <style>\n",
              "    .colab-df-container {\n",
              "      display:flex;\n",
              "      flex-wrap:wrap;\n",
              "      gap: 12px;\n",
              "    }\n",
              "\n",
              "    .colab-df-convert {\n",
              "      background-color: #E8F0FE;\n",
              "      border: none;\n",
              "      border-radius: 50%;\n",
              "      cursor: pointer;\n",
              "      display: none;\n",
              "      fill: #1967D2;\n",
              "      height: 32px;\n",
              "      padding: 0 0 0 0;\n",
              "      width: 32px;\n",
              "    }\n",
              "\n",
              "    .colab-df-convert:hover {\n",
              "      background-color: #E2EBFA;\n",
              "      box-shadow: 0px 1px 2px rgba(60, 64, 67, 0.3), 0px 1px 3px 1px rgba(60, 64, 67, 0.15);\n",
              "      fill: #174EA6;\n",
              "    }\n",
              "\n",
              "    [theme=dark] .colab-df-convert {\n",
              "      background-color: #3B4455;\n",
              "      fill: #D2E3FC;\n",
              "    }\n",
              "\n",
              "    [theme=dark] .colab-df-convert:hover {\n",
              "      background-color: #434B5C;\n",
              "      box-shadow: 0px 1px 3px 1px rgba(0, 0, 0, 0.15);\n",
              "      filter: drop-shadow(0px 1px 2px rgba(0, 0, 0, 0.3));\n",
              "      fill: #FFFFFF;\n",
              "    }\n",
              "  </style>\n",
              "\n",
              "      <script>\n",
              "        const buttonEl =\n",
              "          document.querySelector('#df-fdb922f6-b5d8-472a-b085-4c8b26c19734 button.colab-df-convert');\n",
              "        buttonEl.style.display =\n",
              "          google.colab.kernel.accessAllowed ? 'block' : 'none';\n",
              "\n",
              "        async function convertToInteractive(key) {\n",
              "          const element = document.querySelector('#df-fdb922f6-b5d8-472a-b085-4c8b26c19734');\n",
              "          const dataTable =\n",
              "            await google.colab.kernel.invokeFunction('convertToInteractive',\n",
              "                                                     [key], {});\n",
              "          if (!dataTable) return;\n",
              "\n",
              "          const docLinkHtml = 'Like what you see? Visit the ' +\n",
              "            '<a target=\"_blank\" href=https://colab.research.google.com/notebooks/data_table.ipynb>data table notebook</a>'\n",
              "            + ' to learn more about interactive tables.';\n",
              "          element.innerHTML = '';\n",
              "          dataTable['output_type'] = 'display_data';\n",
              "          await google.colab.output.renderOutput(dataTable, element);\n",
              "          const docLink = document.createElement('div');\n",
              "          docLink.innerHTML = docLinkHtml;\n",
              "          element.appendChild(docLink);\n",
              "        }\n",
              "      </script>\n",
              "    </div>\n",
              "  </div>\n",
              "  "
            ],
            "text/plain": [
              "           count      mean       std\n",
              "age_group                           \n",
              "middle       228 -0.035111  0.686637\n",
              "older        122 -0.245777  0.740720\n",
              "younger      113  0.336196  0.913748"
            ]
          },
          "metadata": {},
          "execution_count": 10
        }
      ]
    },
    {
      "cell_type": "markdown",
      "source": [
        "**Prepare os Dados**"
      ],
      "metadata": {
        "id": "IMJjfX54DT7_"
      }
    },
    {
      "cell_type": "code",
      "source": [
        "younger = df[df[\"age_group\"] == \"younger\"][\"beauty\"]\n",
        "middle = df[df[\"age_group\"] == \"middle\"][\"beauty\"]\n",
        "older = df[df[\"age_group\"] == \"older\"][\"beauty\"]"
      ],
      "metadata": {
        "id": "HDpteMes_62h"
      },
      "execution_count": 11,
      "outputs": []
    },
    {
      "cell_type": "markdown",
      "source": [
        "**f-oneway (ANOVA)**"
      ],
      "metadata": {
        "id": "K6laWIv6DgTy"
      }
    },
    {
      "cell_type": "code",
      "source": [
        "f_stats, pvalue = f_oneway(younger, middle, older)\n",
        "\n",
        "print(f\"f-statistics =\",f_stats, f\"p-value =\", pvalue)"
      ],
      "metadata": {
        "colab": {
          "base_uri": "https://localhost:8080/"
        },
        "id": "OkQH16EgDbMf",
        "outputId": "a0e274a8-f0d3-479c-b136-a78dd495a55b"
      },
      "execution_count": 12,
      "outputs": [
        {
          "output_type": "stream",
          "name": "stdout",
          "text": [
            "f-statistics = 17.597558611010122 p-value = 4.3225489816137975e-08\n"
          ]
        }
      ]
    },
    {
      "cell_type": "markdown",
      "source": [
        "**Resultado dos testes**"
      ],
      "metadata": {
        "id": "5FQ5-luWDspv"
      }
    },
    {
      "cell_type": "code",
      "source": [
        "if pvalue > 0.5:\n",
        "    print(\"Hipótese nula aceita\")\n",
        "else:\n",
        "    print(\"Hipótese alternativa aceita\")"
      ],
      "metadata": {
        "colab": {
          "base_uri": "https://localhost:8080/"
        },
        "id": "CBJI2JaIDmy4",
        "outputId": "af33ab4c-1332-4c09-d7e0-d626e0290d1c"
      },
      "execution_count": 13,
      "outputs": [
        {
          "output_type": "stream",
          "name": "stdout",
          "text": [
            "Hipótese alternativa aceita\n"
          ]
        }
      ]
    },
    {
      "cell_type": "markdown",
      "source": [
        "## <font color=\"orange\">ANOVA</font>\n",
        "\n",
        "**Hipótese nula (Null Hypothesis)**: A pontuação da avaliação não é afetada pela idade do instrutor\n",
        "\n",
        "**Hipótese alternativa (Alternate Hypothesis)**: A pontuação da avaliação é afetada pela idade do instrutor"
      ],
      "metadata": {
        "id": "D1-Eoc0lELzf"
      }
    },
    {
      "cell_type": "code",
      "source": [
        "younger_eval = df[df[\"age_group\"] == \"younger\"][\"eval\"]\n",
        "middle_eval = df[df[\"age_group\"] == \"middle\"][\"eval\"]\n",
        "older_eval = df[df[\"age_group\"] == \"older\"][\"eval\"]"
      ],
      "metadata": {
        "id": "d65O13MtDxGH"
      },
      "execution_count": 14,
      "outputs": []
    },
    {
      "cell_type": "markdown",
      "source": [
        "**f-oneway ANOVA**"
      ],
      "metadata": {
        "id": "D2oSVl2qEtfO"
      }
    },
    {
      "cell_type": "code",
      "source": [
        "f_statistics, pvalue = f_oneway(younger_eval, middle_eval, older_eval)\n",
        "print(f\"f-statistics = {f_statistics}\", f\"pvalue = {pvalue}\")"
      ],
      "metadata": {
        "colab": {
          "base_uri": "https://localhost:8080/"
        },
        "id": "lkHwrWTcEqKa",
        "outputId": "54886960-84f8-4baf-b518-96c55922ae37"
      },
      "execution_count": 15,
      "outputs": [
        {
          "output_type": "stream",
          "name": "stdout",
          "text": [
            "f-statistics = 1.2226327996572204 pvalue = 0.29540894225417536\n"
          ]
        }
      ]
    },
    {
      "cell_type": "code",
      "source": [
        "if pvalue > 0.05:\n",
        "    print(\"Aceitar hipótese nula\")\n",
        "\n",
        "else:\n",
        "    print(\"Aceitar Hipótese Alternativa\")"
      ],
      "metadata": {
        "colab": {
          "base_uri": "https://localhost:8080/"
        },
        "id": "OgI1ZoDwEyIh",
        "outputId": "f2a63da9-1fa3-451c-debf-ffa31132c72b"
      },
      "execution_count": 16,
      "outputs": [
        {
          "output_type": "stream",
          "name": "stdout",
          "text": [
            "Aceitar hipótese nula\n"
          ]
        }
      ]
    },
    {
      "cell_type": "markdown",
      "source": [
        "## <font color=\"orange\">Chi-Squared Test</font>\n",
        "\n",
        "**Hipótese nula (Null Hypothesis)**: Há associação entre gênero (_gender_) e estabilidade (_tenured_)\n",
        "\n",
        "**Hipótese alternativa (Alternate Hypothesis)**: Não há associação entre gênero (_gender_) e estabilidade (_tenured_)"
      ],
      "metadata": {
        "id": "s9L5Eo1RFH12"
      }
    },
    {
      "cell_type": "code",
      "source": [
        "mt = df[df[\"gender\"] == \"male\"][\"tenure\"]\n",
        "yt = df[df[\"gender\"] == \"female\"][\"tenure\"]"
      ],
      "metadata": {
        "id": "E20mviApFDSH"
      },
      "execution_count": 17,
      "outputs": []
    },
    {
      "cell_type": "markdown",
      "source": [
        "**Valores**"
      ],
      "metadata": {
        "id": "4RHre8nLGU_c"
      }
    },
    {
      "cell_type": "code",
      "source": [
        "mft = pd.crosstab(df[\"tenure\"],  df[\"gender\"])\n"
      ],
      "metadata": {
        "id": "fAErX0eWGLEZ"
      },
      "execution_count": 18,
      "outputs": []
    },
    {
      "cell_type": "code",
      "source": [
        "mft"
      ],
      "metadata": {
        "colab": {
          "base_uri": "https://localhost:8080/",
          "height": 141
        },
        "id": "kh0TP9JFGfXr",
        "outputId": "ddd09f91-72aa-4aa7-dd69-b5e5d6d8d45a"
      },
      "execution_count": 19,
      "outputs": [
        {
          "output_type": "execute_result",
          "data": {
            "text/html": [
              "\n",
              "  <div id=\"df-442a2d76-c2fd-466c-a638-d5c3673c84a2\">\n",
              "    <div class=\"colab-df-container\">\n",
              "      <div>\n",
              "<style scoped>\n",
              "    .dataframe tbody tr th:only-of-type {\n",
              "        vertical-align: middle;\n",
              "    }\n",
              "\n",
              "    .dataframe tbody tr th {\n",
              "        vertical-align: top;\n",
              "    }\n",
              "\n",
              "    .dataframe thead th {\n",
              "        text-align: right;\n",
              "    }\n",
              "</style>\n",
              "<table border=\"1\" class=\"dataframe\">\n",
              "  <thead>\n",
              "    <tr style=\"text-align: right;\">\n",
              "      <th>gender</th>\n",
              "      <th>female</th>\n",
              "      <th>male</th>\n",
              "    </tr>\n",
              "    <tr>\n",
              "      <th>tenure</th>\n",
              "      <th></th>\n",
              "      <th></th>\n",
              "    </tr>\n",
              "  </thead>\n",
              "  <tbody>\n",
              "    <tr>\n",
              "      <th>no</th>\n",
              "      <td>50</td>\n",
              "      <td>52</td>\n",
              "    </tr>\n",
              "    <tr>\n",
              "      <th>yes</th>\n",
              "      <td>145</td>\n",
              "      <td>216</td>\n",
              "    </tr>\n",
              "  </tbody>\n",
              "</table>\n",
              "</div>\n",
              "      <button class=\"colab-df-convert\" onclick=\"convertToInteractive('df-442a2d76-c2fd-466c-a638-d5c3673c84a2')\"\n",
              "              title=\"Convert this dataframe to an interactive table.\"\n",
              "              style=\"display:none;\">\n",
              "        \n",
              "  <svg xmlns=\"http://www.w3.org/2000/svg\" height=\"24px\"viewBox=\"0 0 24 24\"\n",
              "       width=\"24px\">\n",
              "    <path d=\"M0 0h24v24H0V0z\" fill=\"none\"/>\n",
              "    <path d=\"M18.56 5.44l.94 2.06.94-2.06 2.06-.94-2.06-.94-.94-2.06-.94 2.06-2.06.94zm-11 1L8.5 8.5l.94-2.06 2.06-.94-2.06-.94L8.5 2.5l-.94 2.06-2.06.94zm10 10l.94 2.06.94-2.06 2.06-.94-2.06-.94-.94-2.06-.94 2.06-2.06.94z\"/><path d=\"M17.41 7.96l-1.37-1.37c-.4-.4-.92-.59-1.43-.59-.52 0-1.04.2-1.43.59L10.3 9.45l-7.72 7.72c-.78.78-.78 2.05 0 2.83L4 21.41c.39.39.9.59 1.41.59.51 0 1.02-.2 1.41-.59l7.78-7.78 2.81-2.81c.8-.78.8-2.07 0-2.86zM5.41 20L4 18.59l7.72-7.72 1.47 1.35L5.41 20z\"/>\n",
              "  </svg>\n",
              "      </button>\n",
              "      \n",
              "  <style>\n",
              "    .colab-df-container {\n",
              "      display:flex;\n",
              "      flex-wrap:wrap;\n",
              "      gap: 12px;\n",
              "    }\n",
              "\n",
              "    .colab-df-convert {\n",
              "      background-color: #E8F0FE;\n",
              "      border: none;\n",
              "      border-radius: 50%;\n",
              "      cursor: pointer;\n",
              "      display: none;\n",
              "      fill: #1967D2;\n",
              "      height: 32px;\n",
              "      padding: 0 0 0 0;\n",
              "      width: 32px;\n",
              "    }\n",
              "\n",
              "    .colab-df-convert:hover {\n",
              "      background-color: #E2EBFA;\n",
              "      box-shadow: 0px 1px 2px rgba(60, 64, 67, 0.3), 0px 1px 3px 1px rgba(60, 64, 67, 0.15);\n",
              "      fill: #174EA6;\n",
              "    }\n",
              "\n",
              "    [theme=dark] .colab-df-convert {\n",
              "      background-color: #3B4455;\n",
              "      fill: #D2E3FC;\n",
              "    }\n",
              "\n",
              "    [theme=dark] .colab-df-convert:hover {\n",
              "      background-color: #434B5C;\n",
              "      box-shadow: 0px 1px 3px 1px rgba(0, 0, 0, 0.15);\n",
              "      filter: drop-shadow(0px 1px 2px rgba(0, 0, 0, 0.3));\n",
              "      fill: #FFFFFF;\n",
              "    }\n",
              "  </style>\n",
              "\n",
              "      <script>\n",
              "        const buttonEl =\n",
              "          document.querySelector('#df-442a2d76-c2fd-466c-a638-d5c3673c84a2 button.colab-df-convert');\n",
              "        buttonEl.style.display =\n",
              "          google.colab.kernel.accessAllowed ? 'block' : 'none';\n",
              "\n",
              "        async function convertToInteractive(key) {\n",
              "          const element = document.querySelector('#df-442a2d76-c2fd-466c-a638-d5c3673c84a2');\n",
              "          const dataTable =\n",
              "            await google.colab.kernel.invokeFunction('convertToInteractive',\n",
              "                                                     [key], {});\n",
              "          if (!dataTable) return;\n",
              "\n",
              "          const docLinkHtml = 'Like what you see? Visit the ' +\n",
              "            '<a target=\"_blank\" href=https://colab.research.google.com/notebooks/data_table.ipynb>data table notebook</a>'\n",
              "            + ' to learn more about interactive tables.';\n",
              "          element.innerHTML = '';\n",
              "          dataTable['output_type'] = 'display_data';\n",
              "          await google.colab.output.renderOutput(dataTable, element);\n",
              "          const docLink = document.createElement('div');\n",
              "          docLink.innerHTML = docLinkHtml;\n",
              "          element.appendChild(docLink);\n",
              "        }\n",
              "      </script>\n",
              "    </div>\n",
              "  </div>\n",
              "  "
            ],
            "text/plain": [
              "gender  female  male\n",
              "tenure              \n",
              "no          50    52\n",
              "yes        145   216"
            ]
          },
          "metadata": {},
          "execution_count": 19
        }
      ]
    },
    {
      "cell_type": "code",
      "source": [
        "chisquare, pvalue, freedom, array = chi2_contingency(mft, correction = False)"
      ],
      "metadata": {
        "id": "n_dEpNJeGn2d"
      },
      "execution_count": 20,
      "outputs": []
    },
    {
      "cell_type": "code",
      "source": [
        "print(f\"Chi-Square Statistics = {chisquare}\\n P-Value = {pvalue}\\n Degree of Freedom = {freedom}\\n Expected Values = {array}\")"
      ],
      "metadata": {
        "colab": {
          "base_uri": "https://localhost:8080/"
        },
        "id": "x0WxzdrTGwC9",
        "outputId": "7359ec32-ccdf-466f-ffe4-c120f8dcdbb6"
      },
      "execution_count": 21,
      "outputs": [
        {
          "output_type": "stream",
          "name": "stdout",
          "text": [
            "Chi-Square Statistics = 2.557051129789522\n",
            " P-Value = 0.10980322511302845\n",
            " Degree of Freedom = 1\n",
            " Expected Values = [[ 42.95896328  59.04103672]\n",
            " [152.04103672 208.95896328]]\n"
          ]
        }
      ]
    },
    {
      "cell_type": "code",
      "source": [
        "if pvalue >= 0.05:\n",
        "    print(\"Aceitar hipótese nula\")\n",
        "else:\n",
        "    print(\"Aceitar Hipótese Alternativa\")"
      ],
      "metadata": {
        "colab": {
          "base_uri": "https://localhost:8080/"
        },
        "id": "SpXfHj4iG0Cp",
        "outputId": "3bc9e738-e744-4b61-b1f0-ec4b565a29d5"
      },
      "execution_count": 22,
      "outputs": [
        {
          "output_type": "stream",
          "name": "stdout",
          "text": [
            "Aceitar hipótese nula\n"
          ]
        }
      ]
    },
    {
      "cell_type": "code",
      "source": [
        "plt.figure(figsize = (18, 7))\n",
        "sns.scatterplot(x = \"eval\", y = \"beauty\", data = df, s = 100, color = \"red\")\n",
        "plt.title(\"Gráfico de dispersão da pontuação de avaliação (eval) por pontuação de encanto (beauty)\", color = \"blue\", size = 20)\n",
        "plt.xlabel(\"Pontuação de avaliação (eval)\", color = \"blue\", size = 20)\n",
        "plt.ylabel(\"Pontuação de encanto (beauty)\", color = \"blue\", size = 20)\n",
        "plt.xticks(size = 15)\n",
        "plt.yticks(size = 15)\n",
        "plt.show()"
      ],
      "metadata": {
        "colab": {
          "base_uri": "https://localhost:8080/",
          "height": 477
        },
        "id": "pPKuAilgHT0q",
        "outputId": "891502ee-7d83-463e-9989-7a78eceb4821"
      },
      "execution_count": 23,
      "outputs": [
        {
          "output_type": "display_data",
          "data": {
            "image/png": "[encoded data removed]",
            "text/plain": [
              "<Figure size 1296x504 with 1 Axes>"
            ]
          },
          "metadata": {
            "needs_background": "light"
          }
        }
      ]
    },
    {
      "cell_type": "code",
      "source": [
        "# Calculamos a correlação entre esses parâmetros\n",
        "\n",
        "df[[\"beauty\", \"eval\"]].corr()"
      ],
      "metadata": {
        "colab": {
          "base_uri": "https://localhost:8080/",
          "height": 110
        },
        "id": "E7ApUR6HJRc7",
        "outputId": "ac90ad6d-f66c-4f27-db0f-5d39d0daf772"
      },
      "execution_count": 24,
      "outputs": [
        {
          "output_type": "execute_result",
          "data": {
            "text/html": [
              "\n",
              "  <div id=\"df-60576e7e-318e-4bbe-8e18-4d802d966d23\">\n",
              "    <div class=\"colab-df-container\">\n",
              "      <div>\n",
              "<style scoped>\n",
              "    .dataframe tbody tr th:only-of-type {\n",
              "        vertical-align: middle;\n",
              "    }\n",
              "\n",
              "    .dataframe tbody tr th {\n",
              "        vertical-align: top;\n",
              "    }\n",
              "\n",
              "    .dataframe thead th {\n",
              "        text-align: right;\n",
              "    }\n",
              "</style>\n",
              "<table border=\"1\" class=\"dataframe\">\n",
              "  <thead>\n",
              "    <tr style=\"text-align: right;\">\n",
              "      <th></th>\n",
              "      <th>beauty</th>\n",
              "      <th>eval</th>\n",
              "    </tr>\n",
              "  </thead>\n",
              "  <tbody>\n",
              "    <tr>\n",
              "      <th>beauty</th>\n",
              "      <td>1.000000</td>\n",
              "      <td>0.189039</td>\n",
              "    </tr>\n",
              "    <tr>\n",
              "      <th>eval</th>\n",
              "      <td>0.189039</td>\n",
              "      <td>1.000000</td>\n",
              "    </tr>\n",
              "  </tbody>\n",
              "</table>\n",
              "</div>\n",
              "      <button class=\"colab-df-convert\" onclick=\"convertToInteractive('df-60576e7e-318e-4bbe-8e18-4d802d966d23')\"\n",
              "              title=\"Convert this dataframe to an interactive table.\"\n",
              "              style=\"display:none;\">\n",
              "        \n",
              "  <svg xmlns=\"http://www.w3.org/2000/svg\" height=\"24px\"viewBox=\"0 0 24 24\"\n",
              "       width=\"24px\">\n",
              "    <path d=\"M0 0h24v24H0V0z\" fill=\"none\"/>\n",
              "    <path d=\"M18.56 5.44l.94 2.06.94-2.06 2.06-.94-2.06-.94-.94-2.06-.94 2.06-2.06.94zm-11 1L8.5 8.5l.94-2.06 2.06-.94-2.06-.94L8.5 2.5l-.94 2.06-2.06.94zm10 10l.94 2.06.94-2.06 2.06-.94-2.06-.94-.94-2.06-.94 2.06-2.06.94z\"/><path d=\"M17.41 7.96l-1.37-1.37c-.4-.4-.92-.59-1.43-.59-.52 0-1.04.2-1.43.59L10.3 9.45l-7.72 7.72c-.78.78-.78 2.05 0 2.83L4 21.41c.39.39.9.59 1.41.59.51 0 1.02-.2 1.41-.59l7.78-7.78 2.81-2.81c.8-.78.8-2.07 0-2.86zM5.41 20L4 18.59l7.72-7.72 1.47 1.35L5.41 20z\"/>\n",
              "  </svg>\n",
              "      </button>\n",
              "      \n",
              "  <style>\n",
              "    .colab-df-container {\n",
              "      display:flex;\n",
              "      flex-wrap:wrap;\n",
              "      gap: 12px;\n",
              "    }\n",
              "\n",
              "    .colab-df-convert {\n",
              "      background-color: #E8F0FE;\n",
              "      border: none;\n",
              "      border-radius: 50%;\n",
              "      cursor: pointer;\n",
              "      display: none;\n",
              "      fill: #1967D2;\n",
              "      height: 32px;\n",
              "      padding: 0 0 0 0;\n",
              "      width: 32px;\n",
              "    }\n",
              "\n",
              "    .colab-df-convert:hover {\n",
              "      background-color: #E2EBFA;\n",
              "      box-shadow: 0px 1px 2px rgba(60, 64, 67, 0.3), 0px 1px 3px 1px rgba(60, 64, 67, 0.15);\n",
              "      fill: #174EA6;\n",
              "    }\n",
              "\n",
              "    [theme=dark] .colab-df-convert {\n",
              "      background-color: #3B4455;\n",
              "      fill: #D2E3FC;\n",
              "    }\n",
              "\n",
              "    [theme=dark] .colab-df-convert:hover {\n",
              "      background-color: #434B5C;\n",
              "      box-shadow: 0px 1px 3px 1px rgba(0, 0, 0, 0.15);\n",
              "      filter: drop-shadow(0px 1px 2px rgba(0, 0, 0, 0.3));\n",
              "      fill: #FFFFFF;\n",
              "    }\n",
              "  </style>\n",
              "\n",
              "      <script>\n",
              "        const buttonEl =\n",
              "          document.querySelector('#df-60576e7e-318e-4bbe-8e18-4d802d966d23 button.colab-df-convert');\n",
              "        buttonEl.style.display =\n",
              "          google.colab.kernel.accessAllowed ? 'block' : 'none';\n",
              "\n",
              "        async function convertToInteractive(key) {\n",
              "          const element = document.querySelector('#df-60576e7e-318e-4bbe-8e18-4d802d966d23');\n",
              "          const dataTable =\n",
              "            await google.colab.kernel.invokeFunction('convertToInteractive',\n",
              "                                                     [key], {});\n",
              "          if (!dataTable) return;\n",
              "\n",
              "          const docLinkHtml = 'Like what you see? Visit the ' +\n",
              "            '<a target=\"_blank\" href=https://colab.research.google.com/notebooks/data_table.ipynb>data table notebook</a>'\n",
              "            + ' to learn more about interactive tables.';\n",
              "          element.innerHTML = '';\n",
              "          dataTable['output_type'] = 'display_data';\n",
              "          await google.colab.output.renderOutput(dataTable, element);\n",
              "          const docLink = document.createElement('div');\n",
              "          docLink.innerHTML = docLinkHtml;\n",
              "          element.appendChild(docLink);\n",
              "        }\n",
              "      </script>\n",
              "    </div>\n",
              "  </div>\n",
              "  "
            ],
            "text/plain": [
              "          beauty      eval\n",
              "beauty  1.000000  0.189039\n",
              "eval    0.189039  1.000000"
            ]
          },
          "metadata": {},
          "execution_count": 24
        }
      ]
    },
    {
      "cell_type": "markdown",
      "source": [
        "**Teste**"
      ],
      "metadata": {
        "id": "RjHRIQLkJmXW"
      }
    },
    {
      "cell_type": "code",
      "source": [
        "p_stats, pvalue = pearsonr(df[\"beauty\"], df[\"eval\"])\n",
        "print(f\"Correlation = {p_stats}, P-Value = {pvalue}\")"
      ],
      "metadata": {
        "colab": {
          "base_uri": "https://localhost:8080/"
        },
        "id": "maJ8RQEbJca-",
        "outputId": "a0db338a-4d6b-4312-d5fb-c705024922fe"
      },
      "execution_count": 25,
      "outputs": [
        {
          "output_type": "stream",
          "name": "stdout",
          "text": [
            "Correlation = 0.1890390908404521, P-Value = 4.247115419812614e-05\n"
          ]
        }
      ]
    },
    {
      "cell_type": "markdown",
      "source": [
        "**Resultado do teste**"
      ],
      "metadata": {
        "id": "JfQi-L9WJwuX"
      }
    },
    {
      "cell_type": "code",
      "source": [
        "if pvalue > 0.05:\n",
        "    print(\"Aceitar hipótese nula\")\n",
        "else:\n",
        "    print(\"Aceitar Hipótese Alternativa\")"
      ],
      "metadata": {
        "colab": {
          "base_uri": "https://localhost:8080/"
        },
        "id": "OtjDeqtYJp9U",
        "outputId": "45e27879-ab63-42b4-d42c-cf9cc5141634"
      },
      "execution_count": 26,
      "outputs": [
        {
          "output_type": "stream",
          "name": "stdout",
          "text": [
            "Aceitar Hipótese Alternativa\n"
          ]
        }
      ]
    },
    {
      "cell_type": "markdown",
      "source": [
        "**Execute um t-test de duas amostras para amostras independentes**"
      ],
      "metadata": {
        "id": "1OLdjPsrKOpA"
      }
    },
    {
      "cell_type": "code",
      "source": [
        "Sample1 = [9, 11, 10, 11, 10, 12, 9, 11, 12, 9, 10]\n",
        "Sample2 = [10, 13, 10, 13, 12, 9, 11, 12, 12, 12, 13]"
      ],
      "metadata": {
        "id": "2Uk9sdqwKAbb"
      },
      "execution_count": 27,
      "outputs": []
    },
    {
      "cell_type": "code",
      "source": [
        "ttest_ind(Sample1, Sample2)"
      ],
      "metadata": {
        "colab": {
          "base_uri": "https://localhost:8080/"
        },
        "id": "raKYH-AQKYBa",
        "outputId": "92d7db35-b7d6-4d46-d57c-92532434efcc"
      },
      "execution_count": 28,
      "outputs": [
        {
          "output_type": "execute_result",
          "data": {
            "text/plain": [
              "Ttest_indResult(statistic=-2.2164816032790386, pvalue=0.03841461541539729)"
            ]
          },
          "metadata": {},
          "execution_count": 28
        }
      ]
    },
    {
      "cell_type": "markdown",
      "source": [
        "<font color=\"pink\">**Mean μ = 63.18 inches and Standard Deviation σ= 13.27 inches. What is the Z-score when x = 91.54 inches?**</font>\n",
        "\n",
        "Nas estatísticas, um escore-z (ou escore padrão) de uma observação é o número de desvios padrão acima ou abaixo da média da população.\n",
        "\n",
        "Para calcular um escore z, é necessário saber a média da população e o desvio padrão da população. Em casos onde é impossível medir cada observação de uma população, é possível estimar o desvio padrão usando uma amostra aleatória.\n",
        "\n",
        "* Para mais detalhes [fazer click aqui](https://www.statisticshowto.com/probability-and-statistics/z-score/)."
      ],
      "metadata": {
        "id": "AOGRKkVqK8pJ"
      }
    },
    {
      "cell_type": "code",
      "source": [
        "z_score = (91.54 - 63.16) / 13.27\n",
        "z_score"
      ],
      "metadata": {
        "colab": {
          "base_uri": "https://localhost:8080/"
        },
        "id": "o4KhGQb4Kgl-",
        "outputId": "6f30dbd3-7363-4b00-a543-c4939721e7bd"
      },
      "execution_count": 29,
      "outputs": [
        {
          "output_type": "execute_result",
          "data": {
            "text/plain": [
              "2.138658628485306"
            ]
          },
          "metadata": {},
          "execution_count": 29
        }
      ]
    },
    {
      "cell_type": "markdown",
      "source": [
        "<font color=\"pink\">**Average Wage = 5.85, Standard Deviation = 0.35, The probability that a selected worker earns more than 6.9**</font>"
      ],
      "metadata": {
        "id": "UsQHsyGJNge9"
      }
    },
    {
      "cell_type": "code",
      "source": [
        "prob = scipy.stats.norm.cdf((6.90 - 5.85) / 0.35)\n",
        "print(1- prob)"
      ],
      "metadata": {
        "colab": {
          "base_uri": "https://localhost:8080/"
        },
        "id": "5cojPufcLIHW",
        "outputId": "f07d4198-2731-4717-f1f3-028971867794"
      },
      "execution_count": 30,
      "outputs": [
        {
          "output_type": "stream",
          "name": "stdout",
          "text": [
            "0.0013498980316301035\n"
          ]
        }
      ]
    },
    {
      "cell_type": "markdown",
      "source": [
        "<font color=\"pink\">**Mean = 490, Variance = 400, Probability that a randomly selected pill contains at least 500 mg of minerals**</font>"
      ],
      "metadata": {
        "id": "-SIu_nj4NwUH"
      }
    },
    {
      "cell_type": "code",
      "source": [
        "prob2 = scipy.stats.norm.cdf((500 - 490) / 20)\n",
        "print(1 - prob2)"
      ],
      "metadata": {
        "colab": {
          "base_uri": "https://localhost:8080/"
        },
        "id": "8151fgXLNrYg",
        "outputId": "a5be1246-4ab8-4c10-b467-c118da2345cd"
      },
      "execution_count": 31,
      "outputs": [
        {
          "output_type": "stream",
          "name": "stdout",
          "text": [
            "0.3085375387259869\n"
          ]
        }
      ]
    },
    {
      "cell_type": "markdown",
      "source": [
        "# <font color=\"orange\">BOSTON DataSet</font>"
      ],
      "metadata": {
        "id": "wuxZ8ciiOMpP"
      }
    },
    {
      "cell_type": "code",
      "source": [
        "boston_url = 'https://cf-courses-data.s3.us.cloud-object-storage.appdomain.cloud/IBMDeveloperSkillsNetwork-ST0151EN-SkillsNetwork/labs/boston_housing.csv'\n",
        "boston_df=pd.read_csv(boston_url)"
      ],
      "metadata": {
        "id": "16WCanuyN6rb"
      },
      "execution_count": 32,
      "outputs": []
    },
    {
      "cell_type": "code",
      "source": [
        "boston_df = boston_df.drop(columns = [\"Unnamed: 0\"])\n",
        "boston_df.head(10)"
      ],
      "metadata": {
        "colab": {
          "base_uri": "https://localhost:8080/",
          "height": 355
        },
        "id": "yz4ypsj6OUa4",
        "outputId": "171d8f6e-52a0-42d6-b004-41b37f59d2ef"
      },
      "execution_count": 33,
      "outputs": [
        {
          "output_type": "execute_result",
          "data": {
            "text/html": [
              "\n",
              "  <div id=\"df-e2ad3241-0dcc-48f9-aec4-0d6fec334579\">\n",
              "    <div class=\"colab-df-container\">\n",
              "      <div>\n",
              "<style scoped>\n",
              "    .dataframe tbody tr th:only-of-type {\n",
              "        vertical-align: middle;\n",
              "    }\n",
              "\n",
              "    .dataframe tbody tr th {\n",
              "        vertical-align: top;\n",
              "    }\n",
              "\n",
              "    .dataframe thead th {\n",
              "        text-align: right;\n",
              "    }\n",
              "</style>\n",
              "<table border=\"1\" class=\"dataframe\">\n",
              "  <thead>\n",
              "    <tr style=\"text-align: right;\">\n",
              "      <th></th>\n",
              "      <th>CRIM</th>\n",
              "      <th>ZN</th>\n",
              "      <th>INDUS</th>\n",
              "      <th>CHAS</th>\n",
              "      <th>NOX</th>\n",
              "      <th>RM</th>\n",
              "      <th>AGE</th>\n",
              "      <th>DIS</th>\n",
              "      <th>RAD</th>\n",
              "      <th>TAX</th>\n",
              "      <th>PTRATIO</th>\n",
              "      <th>LSTAT</th>\n",
              "      <th>MEDV</th>\n",
              "    </tr>\n",
              "  </thead>\n",
              "  <tbody>\n",
              "    <tr>\n",
              "      <th>0</th>\n",
              "      <td>0.00632</td>\n",
              "      <td>18.0</td>\n",
              "      <td>2.31</td>\n",
              "      <td>0.0</td>\n",
              "      <td>0.538</td>\n",
              "      <td>6.575</td>\n",
              "      <td>65.2</td>\n",
              "      <td>4.0900</td>\n",
              "      <td>1.0</td>\n",
              "      <td>296.0</td>\n",
              "      <td>15.3</td>\n",
              "      <td>4.98</td>\n",
              "      <td>24.0</td>\n",
              "    </tr>\n",
              "    <tr>\n",
              "      <th>1</th>\n",
              "      <td>0.02731</td>\n",
              "      <td>0.0</td>\n",
              "      <td>7.07</td>\n",
              "      <td>0.0</td>\n",
              "      <td>0.469</td>\n",
              "      <td>6.421</td>\n",
              "      <td>78.9</td>\n",
              "      <td>4.9671</td>\n",
              "      <td>2.0</td>\n",
              "      <td>242.0</td>\n",
              "      <td>17.8</td>\n",
              "      <td>9.14</td>\n",
              "      <td>21.6</td>\n",
              "    </tr>\n",
              "    <tr>\n",
              "      <th>2</th>\n",
              "      <td>0.02729</td>\n",
              "      <td>0.0</td>\n",
              "      <td>7.07</td>\n",
              "      <td>0.0</td>\n",
              "      <td>0.469</td>\n",
              "      <td>7.185</td>\n",
              "      <td>61.1</td>\n",
              "      <td>4.9671</td>\n",
              "      <td>2.0</td>\n",
              "      <td>242.0</td>\n",
              "      <td>17.8</td>\n",
              "      <td>4.03</td>\n",
              "      <td>34.7</td>\n",
              "    </tr>\n",
              "    <tr>\n",
              "      <th>3</th>\n",
              "      <td>0.03237</td>\n",
              "      <td>0.0</td>\n",
              "      <td>2.18</td>\n",
              "      <td>0.0</td>\n",
              "      <td>0.458</td>\n",
              "      <td>6.998</td>\n",
              "      <td>45.8</td>\n",
              "      <td>6.0622</td>\n",
              "      <td>3.0</td>\n",
              "      <td>222.0</td>\n",
              "      <td>18.7</td>\n",
              "      <td>2.94</td>\n",
              "      <td>33.4</td>\n",
              "    </tr>\n",
              "    <tr>\n",
              "      <th>4</th>\n",
              "      <td>0.06905</td>\n",
              "      <td>0.0</td>\n",
              "      <td>2.18</td>\n",
              "      <td>0.0</td>\n",
              "      <td>0.458</td>\n",
              "      <td>7.147</td>\n",
              "      <td>54.2</td>\n",
              "      <td>6.0622</td>\n",
              "      <td>3.0</td>\n",
              "      <td>222.0</td>\n",
              "      <td>18.7</td>\n",
              "      <td>5.33</td>\n",
              "      <td>36.2</td>\n",
              "    </tr>\n",
              "    <tr>\n",
              "      <th>5</th>\n",
              "      <td>0.02985</td>\n",
              "      <td>0.0</td>\n",
              "      <td>2.18</td>\n",
              "      <td>0.0</td>\n",
              "      <td>0.458</td>\n",
              "      <td>6.430</td>\n",
              "      <td>58.7</td>\n",
              "      <td>6.0622</td>\n",
              "      <td>3.0</td>\n",
              "      <td>222.0</td>\n",
              "      <td>18.7</td>\n",
              "      <td>5.21</td>\n",
              "      <td>28.7</td>\n",
              "    </tr>\n",
              "    <tr>\n",
              "      <th>6</th>\n",
              "      <td>0.08829</td>\n",
              "      <td>12.5</td>\n",
              "      <td>7.87</td>\n",
              "      <td>0.0</td>\n",
              "      <td>0.524</td>\n",
              "      <td>6.012</td>\n",
              "      <td>66.6</td>\n",
              "      <td>5.5605</td>\n",
              "      <td>5.0</td>\n",
              "      <td>311.0</td>\n",
              "      <td>15.2</td>\n",
              "      <td>12.43</td>\n",
              "      <td>22.9</td>\n",
              "    </tr>\n",
              "    <tr>\n",
              "      <th>7</th>\n",
              "      <td>0.14455</td>\n",
              "      <td>12.5</td>\n",
              "      <td>7.87</td>\n",
              "      <td>0.0</td>\n",
              "      <td>0.524</td>\n",
              "      <td>6.172</td>\n",
              "      <td>96.1</td>\n",
              "      <td>5.9505</td>\n",
              "      <td>5.0</td>\n",
              "      <td>311.0</td>\n",
              "      <td>15.2</td>\n",
              "      <td>19.15</td>\n",
              "      <td>27.1</td>\n",
              "    </tr>\n",
              "    <tr>\n",
              "      <th>8</th>\n",
              "      <td>0.21124</td>\n",
              "      <td>12.5</td>\n",
              "      <td>7.87</td>\n",
              "      <td>0.0</td>\n",
              "      <td>0.524</td>\n",
              "      <td>5.631</td>\n",
              "      <td>100.0</td>\n",
              "      <td>6.0821</td>\n",
              "      <td>5.0</td>\n",
              "      <td>311.0</td>\n",
              "      <td>15.2</td>\n",
              "      <td>29.93</td>\n",
              "      <td>16.5</td>\n",
              "    </tr>\n",
              "    <tr>\n",
              "      <th>9</th>\n",
              "      <td>0.17004</td>\n",
              "      <td>12.5</td>\n",
              "      <td>7.87</td>\n",
              "      <td>0.0</td>\n",
              "      <td>0.524</td>\n",
              "      <td>6.004</td>\n",
              "      <td>85.9</td>\n",
              "      <td>6.5921</td>\n",
              "      <td>5.0</td>\n",
              "      <td>311.0</td>\n",
              "      <td>15.2</td>\n",
              "      <td>17.10</td>\n",
              "      <td>18.9</td>\n",
              "    </tr>\n",
              "  </tbody>\n",
              "</table>\n",
              "</div>\n",
              "      <button class=\"colab-df-convert\" onclick=\"convertToInteractive('df-e2ad3241-0dcc-48f9-aec4-0d6fec334579')\"\n",
              "              title=\"Convert this dataframe to an interactive table.\"\n",
              "              style=\"display:none;\">\n",
              "        \n",
              "  <svg xmlns=\"http://www.w3.org/2000/svg\" height=\"24px\"viewBox=\"0 0 24 24\"\n",
              "       width=\"24px\">\n",
              "    <path d=\"M0 0h24v24H0V0z\" fill=\"none\"/>\n",
              "    <path d=\"M18.56 5.44l.94 2.06.94-2.06 2.06-.94-2.06-.94-.94-2.06-.94 2.06-2.06.94zm-11 1L8.5 8.5l.94-2.06 2.06-.94-2.06-.94L8.5 2.5l-.94 2.06-2.06.94zm10 10l.94 2.06.94-2.06 2.06-.94-2.06-.94-.94-2.06-.94 2.06-2.06.94z\"/><path d=\"M17.41 7.96l-1.37-1.37c-.4-.4-.92-.59-1.43-.59-.52 0-1.04.2-1.43.59L10.3 9.45l-7.72 7.72c-.78.78-.78 2.05 0 2.83L4 21.41c.39.39.9.59 1.41.59.51 0 1.02-.2 1.41-.59l7.78-7.78 2.81-2.81c.8-.78.8-2.07 0-2.86zM5.41 20L4 18.59l7.72-7.72 1.47 1.35L5.41 20z\"/>\n",
              "  </svg>\n",
              "      </button>\n",
              "      \n",
              "  <style>\n",
              "    .colab-df-container {\n",
              "      display:flex;\n",
              "      flex-wrap:wrap;\n",
              "      gap: 12px;\n",
              "    }\n",
              "\n",
              "    .colab-df-convert {\n",
              "      background-color: #E8F0FE;\n",
              "      border: none;\n",
              "      border-radius: 50%;\n",
              "      cursor: pointer;\n",
              "      display: none;\n",
              "      fill: #1967D2;\n",
              "      height: 32px;\n",
              "      padding: 0 0 0 0;\n",
              "      width: 32px;\n",
              "    }\n",
              "\n",
              "    .colab-df-convert:hover {\n",
              "      background-color: #E2EBFA;\n",
              "      box-shadow: 0px 1px 2px rgba(60, 64, 67, 0.3), 0px 1px 3px 1px rgba(60, 64, 67, 0.15);\n",
              "      fill: #174EA6;\n",
              "    }\n",
              "\n",
              "    [theme=dark] .colab-df-convert {\n",
              "      background-color: #3B4455;\n",
              "      fill: #D2E3FC;\n",
              "    }\n",
              "\n",
              "    [theme=dark] .colab-df-convert:hover {\n",
              "      background-color: #434B5C;\n",
              "      box-shadow: 0px 1px 3px 1px rgba(0, 0, 0, 0.15);\n",
              "      filter: drop-shadow(0px 1px 2px rgba(0, 0, 0, 0.3));\n",
              "      fill: #FFFFFF;\n",
              "    }\n",
              "  </style>\n",
              "\n",
              "      <script>\n",
              "        const buttonEl =\n",
              "          document.querySelector('#df-e2ad3241-0dcc-48f9-aec4-0d6fec334579 button.colab-df-convert');\n",
              "        buttonEl.style.display =\n",
              "          google.colab.kernel.accessAllowed ? 'block' : 'none';\n",
              "\n",
              "        async function convertToInteractive(key) {\n",
              "          const element = document.querySelector('#df-e2ad3241-0dcc-48f9-aec4-0d6fec334579');\n",
              "          const dataTable =\n",
              "            await google.colab.kernel.invokeFunction('convertToInteractive',\n",
              "                                                     [key], {});\n",
              "          if (!dataTable) return;\n",
              "\n",
              "          const docLinkHtml = 'Like what you see? Visit the ' +\n",
              "            '<a target=\"_blank\" href=https://colab.research.google.com/notebooks/data_table.ipynb>data table notebook</a>'\n",
              "            + ' to learn more about interactive tables.';\n",
              "          element.innerHTML = '';\n",
              "          dataTable['output_type'] = 'display_data';\n",
              "          await google.colab.output.renderOutput(dataTable, element);\n",
              "          const docLink = document.createElement('div');\n",
              "          docLink.innerHTML = docLinkHtml;\n",
              "          element.appendChild(docLink);\n",
              "        }\n",
              "      </script>\n",
              "    </div>\n",
              "  </div>\n",
              "  "
            ],
            "text/plain": [
              "      CRIM    ZN  INDUS  CHAS    NOX  ...  RAD    TAX  PTRATIO  LSTAT  MEDV\n",
              "0  0.00632  18.0   2.31   0.0  0.538  ...  1.0  296.0     15.3   4.98  24.0\n",
              "1  0.02731   0.0   7.07   0.0  0.469  ...  2.0  242.0     17.8   9.14  21.6\n",
              "2  0.02729   0.0   7.07   0.0  0.469  ...  2.0  242.0     17.8   4.03  34.7\n",
              "3  0.03237   0.0   2.18   0.0  0.458  ...  3.0  222.0     18.7   2.94  33.4\n",
              "4  0.06905   0.0   2.18   0.0  0.458  ...  3.0  222.0     18.7   5.33  36.2\n",
              "5  0.02985   0.0   2.18   0.0  0.458  ...  3.0  222.0     18.7   5.21  28.7\n",
              "6  0.08829  12.5   7.87   0.0  0.524  ...  5.0  311.0     15.2  12.43  22.9\n",
              "7  0.14455  12.5   7.87   0.0  0.524  ...  5.0  311.0     15.2  19.15  27.1\n",
              "8  0.21124  12.5   7.87   0.0  0.524  ...  5.0  311.0     15.2  29.93  16.5\n",
              "9  0.17004  12.5   7.87   0.0  0.524  ...  5.0  311.0     15.2  17.10  18.9\n",
              "\n",
              "[10 rows x 13 columns]"
            ]
          },
          "metadata": {},
          "execution_count": 33
        }
      ]
    },
    {
      "cell_type": "markdown",
      "source": [
        "**Boxplot: valor médio de casas ocupadas pelo proprietário**"
      ],
      "metadata": {
        "id": "MAH4lJiz86t6"
      }
    },
    {
      "cell_type": "code",
      "source": [
        "plt.figure(figsize = (18, 7))\n",
        "sns.boxplot(x = boston_df[\"MEDV\"], color = \"pink\")\n",
        "plt.title(\"Distribuição do valor médio das casas ocupadas pelo proprietário em $1000's\", size = 15, color = \"red\")\n",
        "plt.xticks(size = 15)\n",
        "plt.yticks(size = 15)\n",
        "plt.xlabel(\"Valor médio das casas ocupadas pelo proprietário em $1000's\", color = \"red\", size = 15)\n",
        "plt.show()"
      ],
      "metadata": {
        "id": "vDkAZt80Oa2i",
        "colab": {
          "base_uri": "https://localhost:8080/",
          "height": 471
        },
        "outputId": "95ec7b15-a690-4388-bf68-3ef391fc4ba5"
      },
      "execution_count": 37,
      "outputs": [
        {
          "output_type": "display_data",
          "data": {
            "image/png": "[encoded data removed]",
            "text/plain": [
              "<Figure size 1296x504 with 1 Axes>"
            ]
          },
          "metadata": {
            "needs_background": "light"
          }
        }
      ]
    },
    {
      "cell_type": "markdown",
      "source": [
        "**Casas em Charles River**"
      ],
      "metadata": {
        "id": "Rlt9RyXE-WMh"
      }
    },
    {
      "cell_type": "code",
      "source": [
        "plt.figure(figsize = (18, 7))\n",
        "sns.countplot(x = boston_df[\"CHAS\"])\n",
        "plt.xlabel(\"Casas em Charles River\", size = 20)\n",
        "plt.ylabel(\"Frequency\", size = 20)\n",
        "plt.xticks([0.0, 1.0], labels = [\"No\", \"Yes\"], size = 15)\n",
        "plt.yticks(size = 15)\n",
        "plt.show()"
      ],
      "metadata": {
        "colab": {
          "base_uri": "https://localhost:8080/",
          "height": 455
        },
        "id": "GAKcaUxY9LYF",
        "outputId": "e0dd2b72-bc2f-4f81-89df-58f483540c16"
      },
      "execution_count": 38,
      "outputs": [
        {
          "output_type": "display_data",
          "data": {
            "image/png": "[encoded data removed]",
            "text/plain": [
              "<Figure size 1296x504 with 1 Axes>"
            ]
          },
          "metadata": {
            "needs_background": "light"
          }
        }
      ]
    },
    {
      "cell_type": "markdown",
      "source": [
        "**Valor medio por Idade da casa**"
      ],
      "metadata": {
        "id": "ggOMblAR-sJ_"
      }
    },
    {
      "cell_type": "code",
      "source": [
        "def age(x):\n",
        "    if x <= 35:\n",
        "        return \"new\"\n",
        "    elif x > 35 and x <= 70:\n",
        "        return \"moderada\"\n",
        "    else:\n",
        "        return \"velha\"\n",
        "    \n",
        "boston_df[\"age_group\"] = boston_df[\"AGE\"].apply(age)"
      ],
      "metadata": {
        "id": "FKUnCXsw-gQZ"
      },
      "execution_count": 39,
      "outputs": []
    },
    {
      "cell_type": "code",
      "source": [
        "plt.figure(figsize = (18, 7))\n",
        "sns.boxplot(x = boston_df[\"age_group\"], y = boston_df[\"MEDV\"], palette = \"prism\")\n",
        "plt.title(\"Faixa etária das residências por valor médio das residências em $1000's\", size = 20, color = \"red\")\n",
        "plt.xlabel(\"Faixa etária da casa\", size = 20, color = \"red\")\n",
        "plt.ylabel(\"Valor médio de casas em $1000's\", size = 20, color = \"red\")\n",
        "plt.xticks(size = 15)\n",
        "plt.yticks(size = 15)\n",
        "plt.show()"
      ],
      "metadata": {
        "colab": {
          "base_uri": "https://localhost:8080/",
          "height": 477
        },
        "id": "l1eIfiYo_KoF",
        "outputId": "ec6addf1-9105-4497-e48c-8d52504763e8"
      },
      "execution_count": 40,
      "outputs": [
        {
          "output_type": "display_data",
          "data": {
            "image/png": "[encoded data removed]",
            "text/plain": [
              "<Figure size 1296x504 with 1 Axes>"
            ]
          },
          "metadata": {
            "needs_background": "light"
          }
        }
      ]
    },
    {
      "cell_type": "code",
      "source": [
        ""
      ],
      "metadata": {
        "id": "mhpN9LPh__wP"
      },
      "execution_count": null,
      "outputs": []
    }
  ]
}